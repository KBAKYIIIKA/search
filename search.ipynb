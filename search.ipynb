{
 "cells": [
  {
   "cell_type": "markdown",
   "id": "655d55ee-02c4-4a67-bdbc-28c3e3b07daf",
   "metadata": {},
   "source": [
    "## Бинарный поиск"
   ]
  },
  {
   "cell_type": "markdown",
   "id": "4ada4634-3b33-4ac3-9e5d-273bd8001ab4",
   "metadata": {},
   "source": [
    "### Для осуществления бинарного поиска необходим отсортированный массив. Чтобы его осуществить для случайного набора данных, необходимо отсортировать случайный массив, что занимает O(nlogn) временной сложности"
   ]
  },
  {
   "cell_type": "code",
   "execution_count": 1,
   "id": "7119073a-51ec-4fd2-a4c5-1db252fa69bf",
   "metadata": {},
   "outputs": [],
   "source": [
    "import random as rd\n",
    "\n",
    "arr = [rd.randint(-50, 50) for i in range(100)]\n",
    "#print(arr)"
   ]
  },
  {
   "cell_type": "code",
   "execution_count": 2,
   "id": "68bf3ca0-b644-4728-8644-613046a26034",
   "metadata": {},
   "outputs": [],
   "source": [
    "arr.sort()\n",
    "#print(arr)"
   ]
  },
  {
   "cell_type": "markdown",
   "id": "7dc28f13-388e-4ecc-88af-1db9bce9dfb8",
   "metadata": {},
   "source": [
    "### Так как элменты отсортированны, мы можем сказать, где находится искомый элемент относительно выбранного: справа или слева. Будем делить массив пополам каждый раз, чтобы сузить диапазон поиска, пока не найдем. Если же диапазон включает в себя один элемент, а искомый не нашелся, то значит его нет в массиве. Границы массива задаются двумя указателями l, r, которые меняются в процессе.\n",
    "### Сложность алгоритма оценивается как O(logn), где n - длина массива, потому что мы каждую итерацию поиска делим рабочую часть массива пополам"
   ]
  },
  {
   "cell_type": "code",
   "execution_count": 3,
   "id": "bb137820-5a89-4fd7-9e4d-b176cafdb8bd",
   "metadata": {},
   "outputs": [
    {
     "name": "stdout",
     "output_type": "stream",
     "text": [
      "None\n",
      "-37\n"
     ]
    }
   ],
   "source": [
    "# Бинарный поиск\n",
    "def bin_search(arr, target):\n",
    "    l = 0\n",
    "    r = len(arr) - 1\n",
    "    while l <= r:\n",
    "        mid = (l + r) // 2\n",
    "        if arr[mid] == target:\n",
    "            return mid, target\n",
    "        elif target > arr[mid]:\n",
    "            l = mid + 1\n",
    "        else:\n",
    "            r = mid - 1\n",
    "    return None\n",
    "\n",
    "print(bin_search(arr, 510))\n",
    "print(arr[15])"
   ]
  },
  {
   "cell_type": "code",
   "execution_count": 4,
   "id": "aa554b8a-8c10-44b3-87f9-6d45be74c20e",
   "metadata": {},
   "outputs": [],
   "source": [
    "# Добавление элемента\n",
    "import bisect\n",
    "\n",
    "bisect.insort_left(arr, -51)\n",
    "#print(arr)"
   ]
  },
  {
   "cell_type": "code",
   "execution_count": 5,
   "id": "5a812538-d47f-4407-a7a6-fc7249d48426",
   "metadata": {},
   "outputs": [],
   "source": [
    "def del_el(arr, val):\n",
    "    if bin_search(arr, val) is not None:\n",
    "        del_i = bin_search(arr, val)[0]\n",
    "        arr.pop(del_i)\n",
    "    else:\n",
    "        print('Такого элемента нет в массиве')\n",
    "\n",
    "del_el(arr, -51)"
   ]
  },
  {
   "cell_type": "markdown",
   "id": "aadc77ff-51bd-4192-8e38-7fbf536f4edc",
   "metadata": {},
   "source": [
    "## Бинарное дерево.\n",
    "### Чтобы организовать дерево из случайного набора данных, необходимо привести массив в структуру сбалансированного дерева, где левый дочерний элемент всегда меньше родителя, а правый больше"
   ]
  },
  {
   "cell_type": "markdown",
   "id": "32853ef7-2a12-4036-a78c-7cee9b52f5c7",
   "metadata": {},
   "source": [
    "### Поиск по сбалансированному бинарному дереву составляет O(logn). В несбалансированном поиск может стремиться к O(n)"
   ]
  },
  {
   "cell_type": "code",
   "execution_count": 6,
   "id": "1e1cc52a-f5c3-40e4-8591-d50f902a8a88",
   "metadata": {},
   "outputs": [],
   "source": [
    "# Класс дерева\n",
    "class TreeNode:\n",
    "    \n",
    "    # Инициализация\n",
    "    def __init__(self, value):\n",
    "        self.value = value\n",
    "        self.left = None\n",
    "        self.right = None\n",
    "\n",
    "    # Вставка\n",
    "    def insert(self, target):\n",
    "    \n",
    "        if self.value:\n",
    "            \n",
    "            if target <= self.value:\n",
    "                if self.left is not None:\n",
    "                    self.left.insert(target)\n",
    "                else:\n",
    "                    self.left = TreeNode(target)\n",
    "                    \n",
    "            elif target > self.value:\n",
    "                if self.right is not None:\n",
    "                    self.right.insert(target)\n",
    "                else:\n",
    "                    self.right = TreeNode(target)       \n",
    "        else:\n",
    "            self.value = target\n",
    "            \n",
    "    # Поиск. Можно просто найти, можно удалить при need_del == True\n",
    "    def find_1(self, target, need_del):\n",
    "        # Костыль, чтобы через рекурсию у None не вызвать find_1\n",
    "        if self is None or self.value is None or target == self.value:\n",
    "            \n",
    "            if self is not None and self.value is None:\n",
    "                self = None\n",
    "                \n",
    "            if need_del == True:\n",
    "                if self is not None:\n",
    "                    self.del_el\n",
    "                else:\n",
    "                    return self\n",
    "                    \n",
    "            else:\n",
    "                return self.value, self\n",
    "                \n",
    "        # Если искокмый меньше текущего        \n",
    "        if target < self.value:\n",
    "            if self.left is not None:\n",
    "                return self.left.find_1(target, need_del)\n",
    "            else:\n",
    "                # Костыль, чтобы через рекурсию у None не вызвать find_1\n",
    "                self.left = TreeNode(None)\n",
    "                return self.left.find_1(target, need_del)\n",
    "                \n",
    "        # Если искомый больше текущего\n",
    "        elif target > self.value:\n",
    "            if self.right is not None:\n",
    "                return self.right.find_1(target, need_del)\n",
    "            else:\n",
    "                # Костыль, чтобы через рекурсию у None не вызвать find_1\n",
    "                self.right = TreeNode(None)\n",
    "                return self.right.find_1(target, need_del)\n",
    "\n",
    "    # Вспомогательная функция для поиска\n",
    "    def find(self, target, need_del = False):\n",
    "        if need_del == False:\n",
    "            ans = self.find_1(target, need_del = False)\n",
    "            if ans is None:\n",
    "                return None, None\n",
    "            else:\n",
    "                return ans\n",
    "        else:\n",
    "            self.find_1(target, need_del = True)\n",
    "\n",
    "    # Удаление\n",
    "    def del_el(self):\n",
    "        \n",
    "        # Если листовой, то просто удаляем\n",
    "        if self.left is None and self.right is None:\n",
    "            self = None\n",
    "            \n",
    "        # Если один потомок, то ставим его на место родителя\n",
    "        elif self.left is None and self.right is not None:\n",
    "            self = self.right\n",
    "        elif self.left is not None and self.right is None:\n",
    "            self = self.left\n",
    "            \n",
    "        # Если 2 то ищем максимальный слева (он будет листовой) для замены\n",
    "        else:\n",
    "            self.value = self.left.find_max()\n",
    "\n",
    "    # Поиск замены\n",
    "    def find_max(self):\n",
    "        if self.right:\n",
    "            self.right.find_max()\n",
    "        else:\n",
    "            val = self.value\n",
    "            self = None\n",
    "\n",
    "    # Вывод дерева\n",
    "    def out(self):\n",
    "        if self.left:\n",
    "            self.left.out()\n",
    "        print(self.value)\n",
    "        if self.right:\n",
    "            self.right.out()"
   ]
  },
  {
   "cell_type": "code",
   "execution_count": 7,
   "id": "70681c5d-8450-4094-9e67-0b8a3015936f",
   "metadata": {},
   "outputs": [],
   "source": [
    "# Построение сбалансированного дерева из отсортированного массива\n",
    "def sort_tree(arr):\n",
    "    \n",
    "    if not arr:\n",
    "        return  None\n",
    "        \n",
    "    mid = len(arr) // 2\n",
    "    root = TreeNode(arr[mid])\n",
    "    root.left = sort_tree(arr[:mid])\n",
    "    root.right = sort_tree(arr[mid+1:])\n",
    "\n",
    "    return root"
   ]
  },
  {
   "cell_type": "code",
   "execution_count": 8,
   "id": "475b22ba-ec0d-4b12-adb7-da36cb7a3045",
   "metadata": {},
   "outputs": [],
   "source": [
    "# Генерация и сортировка массива\n",
    "arr = [rd.randint(-50, 50) for i in range(1000)]\n",
    "arr.sort()"
   ]
  },
  {
   "cell_type": "code",
   "execution_count": 9,
   "id": "0ce3b885-8b67-4e16-8b92-291290efdb6b",
   "metadata": {},
   "outputs": [],
   "source": [
    "# Создание дерева из отсортированного массива\n",
    "tree = sort_tree(arr)"
   ]
  },
  {
   "cell_type": "code",
   "execution_count": 10,
   "id": "9a1d67e2-3ccf-4d88-a605-57ebd765f440",
   "metadata": {},
   "outputs": [],
   "source": [
    "# Вставка элемента\n",
    "tree.insert(-61)"
   ]
  },
  {
   "cell_type": "code",
   "execution_count": 11,
   "id": "ca499558-2150-418f-bf3b-6709f8da8de2",
   "metadata": {},
   "outputs": [
    {
     "data": {
      "text/plain": [
       "(-61, <__main__.TreeNode at 0x1f6a15f7fe0>)"
      ]
     },
     "execution_count": 11,
     "metadata": {},
     "output_type": "execute_result"
    }
   ],
   "source": [
    "# Нахождение элемента\n",
    "tree.find(-61)"
   ]
  },
  {
   "cell_type": "code",
   "execution_count": 12,
   "id": "66a4cd23-5994-47a5-9f61-374930b64f96",
   "metadata": {},
   "outputs": [],
   "source": [
    "# Нахождение и удаление элемента\n",
    "tree.find(-62, need_del = True)"
   ]
  },
  {
   "cell_type": "code",
   "execution_count": 13,
   "id": "03bea09b-c522-4365-908e-1620359b8959",
   "metadata": {},
   "outputs": [],
   "source": [
    "# Нахождение и удаление элемента\n",
    "tree.find(-61, need_del = True)"
   ]
  },
  {
   "cell_type": "code",
   "execution_count": 14,
   "id": "04621a62-6256-4bc0-b0f2-84dfe13d1ed6",
   "metadata": {},
   "outputs": [],
   "source": [
    "# Вывод дерева\n",
    "#tree.out()"
   ]
  },
  {
   "cell_type": "markdown",
   "id": "aa05d2de-4fee-4b93-8da4-37361379b403",
   "metadata": {},
   "source": [
    "### Сложность поиска по бинарному дереву составляет O(logn). Преимущества деревьев в том, что вставка и удаление элементов не приводит к созданию нового дерева, из-за чего дереьвя удобнее в плане динамических операций."
   ]
  },
  {
   "cell_type": "markdown",
   "id": "2f41b0ba-bb0e-4128-852e-c863ad77b591",
   "metadata": {},
   "source": [
    "## Фибоначиев поиск\n",
    "### Фибоначиев поиск похож на бинарный. Его отличие в том, что мы разбиваем массив не на половинки, а на части, которые являются элементами последовательности фибоначи, где n = n-1 + n-2 (n0 = 0, n1 = 1). Сравнивается с элементом fib(n-2),  "
   ]
  },
  {
   "cell_type": "code",
   "execution_count": 15,
   "id": "c3e92c9b-9cb4-4f56-bd64-b9841cc4e502",
   "metadata": {},
   "outputs": [],
   "source": [
    "# f - массив чисел Фибоначчи. Для потенциального масштабирования использования функции"
   ]
  },
  {
   "cell_type": "code",
   "execution_count": 16,
   "id": "f40c7c49-970f-455f-aafc-240f8f1a2d7b",
   "metadata": {},
   "outputs": [],
   "source": [
    "f = [0, 1]"
   ]
  },
  {
   "cell_type": "code",
   "execution_count": 17,
   "id": "6cad9b4f-c0b4-4885-8a4a-7621b6be3fdc",
   "metadata": {},
   "outputs": [
    {
     "data": {
      "text/plain": [
       "(1, 2)"
      ]
     },
     "execution_count": 17,
     "metadata": {},
     "output_type": "execute_result"
    }
   ],
   "source": [
    "def asd():\n",
    "    return 1, 2\n",
    "asd()"
   ]
  },
  {
   "cell_type": "code",
   "execution_count": 18,
   "id": "3cf8e94d-68ec-4da2-bd5e-8733a170a0ac",
   "metadata": {},
   "outputs": [],
   "source": [
    "import bisect\n",
    "\n",
    "# Поиск числа Фибоначчи и заполнение массива f\n",
    "def fib(ler):\n",
    "    global f\n",
    "    if ler > f[-1]: \n",
    "        while f[-1] + f[-2] <= ler:\n",
    "            f.append(f[-1] + f[-2])\n",
    "        return f[-1]\n",
    "    else:\n",
    "        n = bisect.bisect_left(f, ler)\n",
    "        return [f[n], n]"
   ]
  },
  {
   "cell_type": "code",
   "execution_count": 19,
   "id": "aa1b55cb-387c-48bf-a0e6-166516980822",
   "metadata": {},
   "outputs": [],
   "source": [
    "import random as rand\n",
    "arr = [rand.randint(-50, 50) for i in range(100)]\n",
    "arr.sort()"
   ]
  },
  {
   "cell_type": "code",
   "execution_count": 20,
   "id": "fd744398-59a4-47e1-9939-a2074729889d",
   "metadata": {},
   "outputs": [],
   "source": [
    "# Этот код наполняет множество с числами Фибоначчи, чтобы при необходимости не считать их заново"
   ]
  },
  {
   "cell_type": "code",
   "execution_count": 21,
   "id": "46ebfd5b-826f-4c75-b987-e66a57cbf20e",
   "metadata": {},
   "outputs": [],
   "source": [
    "ler = 1000\n",
    "for i in range(1000):\n",
    "    qw = fib(ler)\n",
    "    ler*=2"
   ]
  },
  {
   "cell_type": "code",
   "execution_count": 22,
   "id": "498f3b2a-9ebe-4611-9463-dc951cfcf69e",
   "metadata": {},
   "outputs": [],
   "source": [
    "# Поиск Фибоначчи\n",
    "def fib_search(arr, target):\n",
    "    f_n = fib(len(arr))\n",
    "    n, f_n = f_n[1], f_n[0]\n",
    "    f_n1 = f[n-1]\n",
    "    f_n2 = f[n-2]\n",
    "    offset = -1\n",
    "\n",
    "    # Пока все числа Фибонначи положительные \n",
    "    while f_n > 1:\n",
    "        # Ищем, сравнивая с f - 2\n",
    "        i = min(offset + f_n2, len(arr) - 1)\n",
    "        \n",
    "        # Нашли\n",
    "        if arr[i] == target:\n",
    "            return i\n",
    "            \n",
    "        # Если больше, то счещаемся на f - 2 - 1 вправо\n",
    "        elif target > arr[i]:\n",
    "            f_n = f_n1\n",
    "            f_n1 = f_n2\n",
    "            f_n2 = f_n - f_n1\n",
    "            offset = i\n",
    "        # Если меньше, то счещаемся на f - 2 - 2 влево\n",
    "        else:\n",
    "            f_n = f_n2\n",
    "            f_n1 -= f_n2\n",
    "            f_n2 = f_n - f_n1\n",
    "            \n",
    "    # Последний элемент\n",
    "    if f_n1 and arr[offset] == target:\n",
    "        return offset + 1\n",
    "\n",
    "    # Не нашелся\n",
    "    return -1"
   ]
  },
  {
   "cell_type": "code",
   "execution_count": 23,
   "id": "077b4d57-90d5-44b2-8e99-e243237642e2",
   "metadata": {},
   "outputs": [
    {
     "data": {
      "text/plain": [
       "17"
      ]
     },
     "execution_count": 23,
     "metadata": {},
     "output_type": "execute_result"
    }
   ],
   "source": [
    "# Поиск\n",
    "fib_search(arr, -35)"
   ]
  },
  {
   "cell_type": "code",
   "execution_count": 24,
   "id": "23b60f55-8d2e-4478-9810-fd7c9d80dd0a",
   "metadata": {},
   "outputs": [],
   "source": [
    "# Вставка\n",
    "bisect.insort_left(arr, 12)"
   ]
  },
  {
   "cell_type": "code",
   "execution_count": 25,
   "id": "ec120a36-78fe-44c1-a14a-0ea4eaae73c2",
   "metadata": {},
   "outputs": [],
   "source": [
    "# Удаление\n",
    "del_el(arr, 12)"
   ]
  },
  {
   "cell_type": "code",
   "execution_count": 26,
   "id": "7bb5be05-931c-43b9-bdbc-36a1631efd66",
   "metadata": {},
   "outputs": [
    {
     "name": "stdout",
     "output_type": "stream",
     "text": [
      "Такого элемента нет в массиве\n"
     ]
    }
   ],
   "source": [
    "# Удаление\n",
    "del_el(arr, -123)"
   ]
  },
  {
   "cell_type": "markdown",
   "id": "b851e146-d273-4844-b8f0-6e2944ed858b",
   "metadata": {},
   "source": [
    "### В худшем случае сложность Фибоначчиева посика O(logn) (хуже чем у бинарного), но в среднем лучше чем у бинарного"
   ]
  },
  {
   "cell_type": "markdown",
   "id": "e29d5918-5f45-478d-bb2e-563e80fabe3f",
   "metadata": {},
   "source": [
    "## Интерполяционный поиск"
   ]
  },
  {
   "cell_type": "markdown",
   "id": "ffc99f62-2e85-4e5d-9636-490055394767",
   "metadata": {},
   "source": [
    "### Похож на бинарный поиск, но отличается тем, что элемент, с которым сравниваем, вычисляется по формуле интерполяции. Такой поиск эффективен в данных, которые имеют множественные повторения и распределены равномерно. Сложность интерполяционного поиска составляет O(log(log(n))) в среднем при хороших данных."
   ]
  },
  {
   "cell_type": "code",
   "execution_count": 27,
   "id": "b38ced35-bfb9-41ab-9a82-90654e0fabf0",
   "metadata": {},
   "outputs": [],
   "source": [
    "# Интерполяционный поиск\n",
    "def inter_search(arr, target):\n",
    "    l = 0\n",
    "    r = len(arr) - 1\n",
    "\n",
    "    while l <= r and arr[l] <= target <= arr[r]:\n",
    "        # Используем формулу интерполяции для оценки позиции ключа\n",
    "        pos = l + int(((target - arr[l]) * (r - l)) / (arr[r] - arr[l]))\n",
    "\n",
    "        if arr[pos] == target:\n",
    "            return pos\n",
    "        elif arr[pos] < target:\n",
    "            l = pos + 1\n",
    "        else:\n",
    "            r = pos - 1\n",
    "\n",
    "    return -1"
   ]
  },
  {
   "cell_type": "code",
   "execution_count": 28,
   "id": "b31318c9-43ff-4483-96fe-468eea6d1c89",
   "metadata": {},
   "outputs": [],
   "source": [
    "import random as rand\n",
    "arr = [rand.randint(-50, 50) for i in range(100)]\n",
    "arr.sort()"
   ]
  },
  {
   "cell_type": "code",
   "execution_count": 29,
   "id": "9422b8b1-6e7b-4dce-a8ef-a854205efdb3",
   "metadata": {},
   "outputs": [
    {
     "data": {
      "text/plain": [
       "46"
      ]
     },
     "execution_count": 29,
     "metadata": {},
     "output_type": "execute_result"
    }
   ],
   "source": [
    "inter_search(arr, -4)"
   ]
  },
  {
   "cell_type": "code",
   "execution_count": 30,
   "id": "04e356da-e0e9-4d55-839b-bcf84d35085a",
   "metadata": {},
   "outputs": [],
   "source": [
    "# Вставка\n",
    "bisect.insort_left(arr, 12)"
   ]
  },
  {
   "cell_type": "code",
   "execution_count": 31,
   "id": "c923e8cc-d1a3-4413-a210-1353a6a8b498",
   "metadata": {},
   "outputs": [],
   "source": [
    "# Удаление\n",
    "del_el(arr, 12)"
   ]
  },
  {
   "cell_type": "code",
   "execution_count": 32,
   "id": "9f4e4391-68b1-4a81-ad37-0a0c0c6bd859",
   "metadata": {},
   "outputs": [
    {
     "name": "stdout",
     "output_type": "stream",
     "text": [
      "Такого элемента нет в массиве\n"
     ]
    }
   ],
   "source": [
    "# Удаление\n",
    "del_el(arr, -123)"
   ]
  }
 ],
 "metadata": {
  "kernelspec": {
   "display_name": "Python 3 (ipykernel)",
   "language": "python",
   "name": "python3"
  },
  "language_info": {
   "codemirror_mode": {
    "name": "ipython",
    "version": 3
   },
   "file_extension": ".py",
   "mimetype": "text/x-python",
   "name": "python",
   "nbconvert_exporter": "python",
   "pygments_lexer": "ipython3",
   "version": "3.12.2"
  }
 },
 "nbformat": 4,
 "nbformat_minor": 5
}
